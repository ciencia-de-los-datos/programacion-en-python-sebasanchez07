{
 "cells": [
  {
   "cell_type": "markdown",
   "metadata": {
    "id": "MRGzs52ZYRhW"
   },
   "source": [
    "# Lectura de archivo\n",
    "\n",
    " Esta función permite leer la base de datos \"data.csv\" y se almacena dentro de una lista, desde esta lista será más fácil acceder a la información para responder a cada pregunta del taller."
   ]
  },
  {
   "cell_type": "code",
   "execution_count": 2,
   "metadata": {
    "id": "j1Pdva9uYnri"
   },
   "outputs": [],
   "source": [
    "def importar_datos(ruta_datos):\n",
    "  with open(ruta_datos, \"r\") as archivo:\n",
    "    datos_taller = archivo.readlines()\n",
    "    datos_taller = [elemento.replace(\"\\n\", \"\") for elemento in datos_taller] \n",
    "    datos_taller = [elemento.split(\"\\t\") for elemento in datos_taller] \n",
    "\n",
    "  return datos_taller"
   ]
  },
  {
   "cell_type": "markdown",
   "metadata": {
    "id": "uNbuTY6hZMSD"
   },
   "source": [
    "- Se utiliza la función anterior para leer los datos y guardarlos en una lista de nombre datos."
   ]
  },
  {
   "cell_type": "code",
   "execution_count": 3,
   "metadata": {
    "colab": {
     "base_uri": "https://localhost:8080/"
    },
    "id": "L_75_sNdZDam",
    "outputId": "3a510f12-01ec-425b-b146-f68869f6f550"
   },
   "outputs": [
    {
     "data": {
      "text/plain": [
       "[['E', '1', '1999-02-28', 'b,g,f', 'jjj:12,bbb:3,ddd:9,ggg:8,hhh:2'],\n",
       " ['A', '2', '1999-10-28', 'a,f,c', 'ccc:2,ddd:0,aaa:3,hhh:9'],\n",
       " ['B', '5', '1998-05-02', 'f,e,a,c', 'ddd:2,ggg:5,ccc:6,jjj:12'],\n",
       " ['A', '3', '1999-08-28', 'a,b', 'hhh:9,iii:5,eee:7,bbb:1'],\n",
       " ['C', '6', '1999-12-01', 'f,g,d,a', 'iii:6,ddd:5,eee:4,jjj:12'],\n",
       " ['A', '7', '1998-07-28', 'c,d', 'bbb:2,hhh:0,ccc:4,fff:1,aaa:7'],\n",
       " ['A', '9', '1997-02-28', 'g,d,a', 'aaa:5,fff:8,ddd:2,iii:0,jjj:7,ccc:1'],\n",
       " ['B', '1', '1999-05-10', 'b,a', 'fff:3,hhh:1,ddd:2'],\n",
       " ['E', '2', '1997-04-12', 'd,e,a,f', 'eee:4,ccc:5,iii:9,fff:7,ggg:6,bbb:2'],\n",
       " ['B', '3', '1999-11-23', 'd,b,g,f', 'bbb:7,jjj:9,fff:5,iii:4,ggg:3,eee:3'],\n",
       " ['C', '7', '1998-01-17', 'd,c,f,b', 'hhh:6,eee:4,iii:0,fff:2,jjj:12'],\n",
       " ['C', '5', '1998-12-28', 'd,e,a,c', 'bbb:7,iii:6,ggg:9'],\n",
       " ['D', '3', '1999-10-15', 'g,e,f,b', 'bbb:9,aaa:3,ccc:6,fff:4,eee:2'],\n",
       " ['E', '8', '1998-11-01', 'c,f', 'aaa:8,ddd:5,jjj:12'],\n",
       " ['B', '9', '1999-08-12', 'd,b', 'ccc:7,jjj:6,fff:7,ddd:3,aaa:2'],\n",
       " ['D', '8', '1997-12-01', 'f,e', 'ccc:8,eee:6,bbb:9,ddd:3'],\n",
       " ['E', '3', '1997-07-28', 'e,b,f', 'bbb:6,iii:3,hhh:5,fff:4,ggg:9,ddd:2'],\n",
       " ['D', '5', '1998-08-12', 'g,a', 'hhh:4,jjj:5,ccc:9'],\n",
       " ['E', '8', '1999-08-24', 'e,c,f,a', 'ccc:1,iii:6,fff:9'],\n",
       " ['E', '9', '1998-01-23', 'e,a', 'bbb:9,aaa:3,fff:1'],\n",
       " ['E', '7', '1999-06-22', 'e,f', 'ddd:9,iii:2,aaa:4'],\n",
       " ['E', '3', '1999-04-24', 'c,b,g', 'ccc:5,fff:8,iii:7'],\n",
       " ['D', '5', '1999-06-25', 'c,f,a', 'eee:3,jjj:17,ddd:7'],\n",
       " ['A', '9', '1999-08-25', 'f,a,d', 'jjj:12,ggg:7,ccc:7,ddd:9,bbb:3'],\n",
       " ['E', '4', '1997-07-26', 'c,d', 'jjj:6,ccc:4,aaa:1,hhh:9,iii:7,ggg:8'],\n",
       " ['E', '6', '1997-09-24', 'e,d,c', 'fff:3,eee:6,iii:4,bbb:7,ddd:4,ccc:1'],\n",
       " ['A', '8', '1997-09-28', 'a,e,f', 'fff:0,ddd:5,ccc:4'],\n",
       " ['E', '5', '1999-06-22', 'c,a,g', 'ggg:6,hhh:3,ddd:9,ccc:10,jjj:7'],\n",
       " ['A', '6', '1999-07-29', 'f,e', 'hhh:6,jjj:13,eee:5,iii:7,ccc:3'],\n",
       " ['C', '0', '1999-08-22', 'f,c,a,g', 'eee:1,fff:4,aaa:2,ccc:7,ggg:10,ddd:6'],\n",
       " ['A', '9', '1998-04-26', 'b,f', 'ccc:6,aaa:9,eee:5,ddd:0,bbb:3'],\n",
       " ['D', '3', '1998-02-24', 'b,f', 'bbb:7,hhh:1,aaa:6,iii:4,fff:9,ddd:5'],\n",
       " ['E', '5', '1999-03-24', 'a,c', 'fff:3,ccc:1,ggg:3,eee:5'],\n",
       " ['B', '4', '1998-03-23', 'b,f,c', 'iii:7,ggg:3,ddd:0,jjj:8,hhh:5,ccc:1'],\n",
       " ['B', '6', '1999-04-21', 'f,a,e', 'hhh:6,ccc:3,jjj:9,bbb:8,ddd:7'],\n",
       " ['D', '7', '1999-02-29', 'a,f', 'aaa:1,fff:5,ddd:3'],\n",
       " ['B', '8', '1997-05-21', 'c,a', 'ddd:5,jjj:17,iii:7,ccc:10,bbb:4'],\n",
       " ['C', '9', '1997-07-22', 'c,a,e,f', 'eee:3,fff:2,hhh:6'],\n",
       " ['E', '1', '1999-09-28', 'e,d', 'fff:9,iii:2,eee:5'],\n",
       " ['E', '5', '1998-01-26', 'f,a,d', 'hhh:8,ggg:3,jjj:5']]"
      ]
     },
     "execution_count": 3,
     "metadata": {},
     "output_type": "execute_result"
    }
   ],
   "source": [
    "datos = importar_datos(ruta_datos = \"data.csv\")\n",
    "datos"
   ]
  },
  {
   "cell_type": "markdown",
   "metadata": {
    "id": "h284MDB1ZV-5"
   },
   "source": [
    "# Pregunta 1"
   ]
  },
  {
   "cell_type": "markdown",
   "metadata": {
    "id": "9r7CjtJSZZZy"
   },
   "source": [
    "- El siguiente código es una de las tantas opciones para resolver la pregunta 1 del taller:"
   ]
  },
  {
   "cell_type": "code",
   "execution_count": 15,
   "metadata": {},
   "outputs": [
    {
     "data": {
      "text/plain": [
       "8"
      ]
     },
     "execution_count": 15,
     "metadata": {},
     "output_type": "execute_result"
    }
   ],
   "source": [
    "len(datos)\n",
    "int(datos[0][1])+int(datos[1][1])+int(datos[2][1])"
   ]
  },
  {
   "cell_type": "code",
   "execution_count": 6,
   "metadata": {},
   "outputs": [
    {
     "data": {
      "text/plain": [
       "8"
      ]
     },
     "execution_count": 6,
     "metadata": {},
     "output_type": "execute_result"
    }
   ],
   "source": [
    "range(len(datos))\n",
    "sum([int(datos[0][1]),int(datos[1][1]),int(datos[2][1])])"
   ]
  },
  {
   "cell_type": "code",
   "execution_count": 9,
   "metadata": {},
   "outputs": [
    {
     "data": {
      "text/plain": [
       "range(0, 5)"
      ]
     },
     "execution_count": 9,
     "metadata": {},
     "output_type": "execute_result"
    }
   ],
   "source": [
    "range(5)"
   ]
  },
  {
   "cell_type": "code",
   "execution_count": 10,
   "metadata": {},
   "outputs": [
    {
     "data": {
      "text/plain": [
       "40"
      ]
     },
     "execution_count": 10,
     "metadata": {},
     "output_type": "execute_result"
    }
   ],
   "source": [
    "len(datos)"
   ]
  },
  {
   "cell_type": "code",
   "execution_count": 4,
   "metadata": {
    "id": "4q1GgZzZUyLx"
   },
   "outputs": [],
   "source": [
    "# Pregunta:\n",
    "def pregunta_01():\n",
    "    \"\"\"\n",
    "    Retorne la suma de la segunda columna.\n",
    "    Rta/\n",
    "    214\n",
    "    \"\"\"\n",
    "    return\n",
    "\n",
    "# Respuesta\n",
    "def pregunta_01():\n",
    "    lista = []\n",
    "    for i in range(len(datos)):\n",
    "      lista.append(int(datos[i][1]))\n",
    "      resultado = sum(lista)\n",
    "\n",
    "    return resultado"
   ]
  },
  {
   "cell_type": "markdown",
   "metadata": {
    "id": "KRX3aMqVZ101"
   },
   "source": [
    "- Se comprueba que la función arroje el resultado correcto (214):"
   ]
  },
  {
   "cell_type": "code",
   "execution_count": 5,
   "metadata": {
    "colab": {
     "base_uri": "https://localhost:8080/"
    },
    "id": "N271CNJ1Zmq4",
    "outputId": "9a1e4e84-88e0-498e-b5bc-3901f31f43b4"
   },
   "outputs": [
    {
     "data": {
      "text/plain": [
       "214"
      ]
     },
     "execution_count": 5,
     "metadata": {},
     "output_type": "execute_result"
    }
   ],
   "source": [
    "pregunta_01() # Resultado correcto"
   ]
  },
  {
   "cell_type": "markdown",
   "metadata": {
    "id": "678Gx6-vZ_lm"
   },
   "source": [
    "- Ahora se prueba con la función que el profesor tiene para validar (\"tests\"): cuando se ejecuta no aparece ningún error, es decir, que la respuesta es correcta."
   ]
  },
  {
   "cell_type": "code",
   "execution_count": 14,
   "metadata": {
    "id": "mq7BR31QaEbz"
   },
   "outputs": [],
   "source": [
    "def test_01():\n",
    "    assert pregunta_01() == 214\n",
    "\n",
    "test_01()"
   ]
  },
  {
   "cell_type": "markdown",
   "metadata": {
    "id": "gc_5lf-7bA4-"
   },
   "source": [
    "# Pregunta 2\n",
    "\n",
    "- **Nota:** para responder a esta pregunta se crearon 3 funciones en total. La función \"variable\" permite seleccionar la primera columna, la función \"suma_letra\" permite contar para cada palabra cuántos registros existen y la función \"resultado\" consume las dos funciones anteriores, para finalmente arrojar una lista con tuplas que indican la letra y el conteo."
   ]
  },
  {
   "cell_type": "code",
   "execution_count": 27,
   "metadata": {},
   "outputs": [
    {
     "data": {
      "text/plain": [
       "'A'"
      ]
     },
     "execution_count": 27,
     "metadata": {},
     "output_type": "execute_result"
    }
   ],
   "source": [
    "datos[1][0]\n"
   ]
  },
  {
   "cell_type": "code",
   "execution_count": 28,
   "metadata": {},
   "outputs": [],
   "source": [
    " def variable():\n",
    "        lista = []\n",
    "        for i in range(len(datos)):\n",
    "            lista.append(datos[i][0])\n",
    "        return lista"
   ]
  },
  {
   "cell_type": "code",
   "execution_count": 36,
   "metadata": {},
   "outputs": [
    {
     "data": {
      "text/plain": [
       "2"
      ]
     },
     "execution_count": 36,
     "metadata": {},
     "output_type": "execute_result"
    }
   ],
   "source": [
    "variable()[2] == \"B\" \n",
    "\n",
    "True + True"
   ]
  },
  {
   "cell_type": "code",
   "execution_count": 37,
   "metadata": {
    "id": "IqiC_H6EbB7A"
   },
   "outputs": [],
   "source": [
    "# Pregunta:\n",
    "def pregunta_02():\n",
    "    \"\"\"\n",
    "    Retorne la cantidad de registros por cada letra de la primera columna como la lista\n",
    "    de tuplas (letra, cantidad), ordendas alfabéticamente.\n",
    "    Rta/\n",
    "    [\n",
    "        (\"A\", 8),\n",
    "        (\"B\", 7),\n",
    "        (\"C\", 5),\n",
    "        (\"D\", 6),\n",
    "        (\"E\", 14),\n",
    "    ]\n",
    "    \"\"\"\n",
    "    return\n",
    "\n",
    "# Respuesta:\n",
    "def pregunta_02():\n",
    "    \n",
    "    letras = [\"A\", \"B\", \"C\", \"D\", \"E\"]\n",
    "    \n",
    "    # Función 1: Seleccionar la columna 1\n",
    "    def variable():\n",
    "        lista = []\n",
    "        for i in range(len(datos)):\n",
    "            lista.append(datos[i][0])\n",
    "        return lista\n",
    "\n",
    "    # Función 2: Conteo para cada letra\n",
    "    def suma_letra(letra):\n",
    "        prueba = []\n",
    "        for i in range(len(variable())):\n",
    "            prueba.append(variable()[i] == letra)\n",
    "        res = sum(prueba)\n",
    "        \n",
    "        return res\n",
    "\n",
    "    # Función 3: Resultado final \n",
    "    def resultado(x):\n",
    "        letra = []\n",
    "        conteo = []\n",
    "        \n",
    "        for i in range(len(x)):\n",
    "            letra.append(letras[i])\n",
    "            conteo.append(suma_letra(letra = letras[i]))\n",
    "            \n",
    "        res = [\n",
    "            (letra[0], conteo[0]),\n",
    "            (letra[1], conteo[1]),\n",
    "            (letra[2], conteo[2]),\n",
    "            (letra[3], conteo[3]),\n",
    "            (letra[4], conteo[4])\n",
    "            ]\n",
    "        return res\n",
    "    \n",
    "    return resultado(x = letras)\n"
   ]
  },
  {
   "cell_type": "markdown",
   "metadata": {
    "id": "AuBWOPR7k5BF"
   },
   "source": [
    "- Se prueba la función para verificar que el resultado sea correcto:"
   ]
  },
  {
   "cell_type": "code",
   "execution_count": 38,
   "metadata": {
    "colab": {
     "base_uri": "https://localhost:8080/"
    },
    "id": "e6FWtGYBfy1q",
    "outputId": "9398678e-e03c-446c-aac6-d330b31cd89f"
   },
   "outputs": [
    {
     "data": {
      "text/plain": [
       "[('A', 8), ('B', 7), ('C', 5), ('D', 6), ('E', 14)]"
      ]
     },
     "execution_count": 38,
     "metadata": {},
     "output_type": "execute_result"
    }
   ],
   "source": [
    "pregunta_02()"
   ]
  },
  {
   "cell_type": "markdown",
   "metadata": {
    "id": "QOvbxg5Ok_gj"
   },
   "source": [
    "- Ahora se prueba con la función que el profesor tiene para validar (\"tests\"): cuando se ejecuta no aparece ningún error, es decir, que la respuesta es correcta."
   ]
  },
  {
   "cell_type": "code",
   "execution_count": 17,
   "metadata": {
    "id": "AWVVvvsEk--o"
   },
   "outputs": [],
   "source": [
    "def test_02():\n",
    "    assert pregunta_02() == [\n",
    "        (\"A\", 8),\n",
    "        (\"B\", 7),\n",
    "        (\"C\", 5),\n",
    "        (\"D\", 6),\n",
    "        (\"E\", 14),\n",
    "    ]"
   ]
  },
  {
   "cell_type": "markdown",
   "metadata": {},
   "source": [
    "# pregunta 3"
   ]
  },
  {
   "cell_type": "code",
   "execution_count": 48,
   "metadata": {},
   "outputs": [],
   "source": [
    "def variable(num):\n",
    "    lista = []\n",
    "    for i in range(len(datos)):\n",
    "        lista.append(datos[i][num])\n",
    "    return lista\n"
   ]
  },
  {
   "cell_type": "code",
   "execution_count": 56,
   "metadata": {},
   "outputs": [
    {
     "data": {
      "text/plain": [
       "True"
      ]
     },
     "execution_count": 56,
     "metadata": {},
     "output_type": "execute_result"
    }
   ],
   "source": [
    "variable(num = 0)[0] == \"E\""
   ]
  },
  {
   "cell_type": "code",
   "execution_count": 58,
   "metadata": {},
   "outputs": [],
   "source": [
    "listap3 = []\n",
    "for i in range(len(variable(num = 0))):\n",
    "    listap3.append(variable(num = 0)[i] == \"E\")"
   ]
  },
  {
   "cell_type": "code",
   "execution_count": 67,
   "metadata": {},
   "outputs": [
    {
     "data": {
      "text/plain": [
       "0"
      ]
     },
     "execution_count": 67,
     "metadata": {},
     "output_type": "execute_result"
    }
   ],
   "source": [
    "int(variable(num = 1)[2]) * False"
   ]
  },
  {
   "cell_type": "code",
   "execution_count": 74,
   "metadata": {},
   "outputs": [],
   "source": [
    "sumae = []\n",
    "for i in range(len(listap3)):\n",
    "    sumae.append(int(variable(num = 1)[i]) * listap3[i])"
   ]
  },
  {
   "cell_type": "code",
   "execution_count": 76,
   "metadata": {},
   "outputs": [
    {
     "data": {
      "text/plain": [
       "67"
      ]
     },
     "execution_count": 76,
     "metadata": {},
     "output_type": "execute_result"
    }
   ],
   "source": [
    "sum(sumae)"
   ]
  },
  {
   "cell_type": "code",
   "execution_count": 77,
   "metadata": {},
   "outputs": [],
   "source": [
    "\n",
    "\n",
    "def sumacol2(letra):\n",
    "    listaletras = []\n",
    "    for i in range(len(variable(num = 0))):\n",
    "        listaletras.append(variable(num = 0)[i] == letra)\n",
    "    sumaletra = []\n",
    "    for i in range(len(listaletras)):\n",
    "        sumaletra.append(int(variable(num = 1)[i]) * listaletras[i])\n",
    "    res = sum(sumaletra)\n",
    "    return res \n",
    "    \n"
   ]
  },
  {
   "cell_type": "code",
   "execution_count": 79,
   "metadata": {},
   "outputs": [
    {
     "data": {
      "text/plain": [
       "53"
      ]
     },
     "execution_count": 79,
     "metadata": {},
     "output_type": "execute_result"
    }
   ],
   "source": [
    "sumacol2(letra = \"A\")"
   ]
  },
  {
   "cell_type": "code",
   "execution_count": 83,
   "metadata": {},
   "outputs": [],
   "source": [
    "def pregunta_03():\n",
    "    def variable(num):\n",
    "        lista = []\n",
    "        for i in range(len(datos)):\n",
    "            lista.append(datos[i][num])\n",
    "        return lista\n",
    "\n",
    "    def sumacol2(letra):\n",
    "        listaletras = []\n",
    "        for i in range(len(variable(num = 0))):\n",
    "            listaletras.append(variable(num = 0)[i] == letra)\n",
    "        sumaletra = []\n",
    "        for i in range(len(listaletras)):\n",
    "            sumaletra.append(int(variable(num = 1)[i]) * listaletras[i])\n",
    "        res = sum(sumaletra)\n",
    "        return res \n",
    "\n",
    "    letras = [\"A\", \"B\", \"C\", \"D\", \"E\"]\n",
    "    letra = []\n",
    "    sumatoria = []\n",
    "    for i in range(len(letras)):\n",
    "        letra.append(letras[i])\n",
    "        sumatoria.append(sumacol2(letra = letras[i]))\n",
    "    \n",
    "    resultado = [\n",
    "        (letra[0], sumatoria[0]),\n",
    "        (letra[1], sumatoria[1]),\n",
    "        (letra[2], sumatoria[2]),\n",
    "        (letra[3], sumatoria[3]),\n",
    "        (letra[4], sumatoria[4])\n",
    "    ]\n",
    "    return resultado"
   ]
  },
  {
   "cell_type": "code",
   "execution_count": 84,
   "metadata": {},
   "outputs": [
    {
     "data": {
      "text/plain": [
       "[('A', 53), ('B', 36), ('C', 27), ('D', 31), ('E', 67)]"
      ]
     },
     "execution_count": 84,
     "metadata": {},
     "output_type": "execute_result"
    }
   ],
   "source": [
    "pregunta_03()"
   ]
  },
  {
   "cell_type": "markdown",
   "metadata": {},
   "source": [
    "# Pregunta 4"
   ]
  },
  {
   "cell_type": "code",
   "execution_count": 85,
   "metadata": {},
   "outputs": [],
   "source": [
    "def variable(num):\n",
    "        lista = []\n",
    "        for i in range(len(datos)):\n",
    "            lista.append(datos[i][num])\n",
    "        return lista"
   ]
  },
  {
   "cell_type": "code",
   "execution_count": 91,
   "metadata": {},
   "outputs": [
    {
     "data": {
      "text/plain": [
       "['1999-02-28',\n",
       " '1999-10-28',\n",
       " '1998-05-02',\n",
       " '1999-08-28',\n",
       " '1999-12-01',\n",
       " '1998-07-28',\n",
       " '1997-02-28',\n",
       " '1999-05-10',\n",
       " '1997-04-12',\n",
       " '1999-11-23',\n",
       " '1998-01-17',\n",
       " '1998-12-28',\n",
       " '1999-10-15',\n",
       " '1998-11-01',\n",
       " '1999-08-12',\n",
       " '1997-12-01',\n",
       " '1997-07-28',\n",
       " '1998-08-12',\n",
       " '1999-08-24',\n",
       " '1998-01-23',\n",
       " '1999-06-22',\n",
       " '1999-04-24',\n",
       " '1999-06-25',\n",
       " '1999-08-25',\n",
       " '1997-07-26',\n",
       " '1997-09-24',\n",
       " '1997-09-28',\n",
       " '1999-06-22',\n",
       " '1999-07-29',\n",
       " '1999-08-22',\n",
       " '1998-04-26',\n",
       " '1998-02-24',\n",
       " '1999-03-24',\n",
       " '1998-03-23',\n",
       " '1999-04-21',\n",
       " '1999-02-29',\n",
       " '1997-05-21',\n",
       " '1997-07-22',\n",
       " '1999-09-28',\n",
       " '1998-01-26']"
      ]
     },
     "execution_count": 91,
     "metadata": {},
     "output_type": "execute_result"
    }
   ],
   "source": [
    "variable(num = 2)"
   ]
  },
  {
   "cell_type": "code",
   "execution_count": 95,
   "metadata": {},
   "outputs": [],
   "source": [
    "mes = []\n",
    "for i in range(len(variable(num = 2))):\n",
    "    mes.append(variable(num = 2)[i].split(\"-\")[1])"
   ]
  },
  {
   "cell_type": "code",
   "execution_count": 107,
   "metadata": {},
   "outputs": [
    {
     "data": {
      "text/plain": [
       "['02',\n",
       " '10',\n",
       " '05',\n",
       " '08',\n",
       " '12',\n",
       " '07',\n",
       " '02',\n",
       " '05',\n",
       " '04',\n",
       " '11',\n",
       " '01',\n",
       " '12',\n",
       " '10',\n",
       " '11',\n",
       " '08',\n",
       " '12',\n",
       " '07',\n",
       " '08',\n",
       " '08',\n",
       " '01',\n",
       " '06',\n",
       " '04',\n",
       " '06',\n",
       " '08',\n",
       " '07',\n",
       " '09',\n",
       " '09',\n",
       " '06',\n",
       " '07',\n",
       " '08',\n",
       " '04',\n",
       " '02',\n",
       " '03',\n",
       " '03',\n",
       " '04',\n",
       " '02',\n",
       " '05',\n",
       " '07',\n",
       " '09',\n",
       " '01']"
      ]
     },
     "execution_count": 107,
     "metadata": {},
     "output_type": "execute_result"
    }
   ],
   "source": [
    "mes"
   ]
  },
  {
   "cell_type": "code",
   "execution_count": 98,
   "metadata": {},
   "outputs": [],
   "source": [
    "def suma_mes(x):\n",
    "        prueba = []\n",
    "        for i in range(len(mes)):\n",
    "            prueba.append(mes[i] == x)\n",
    "        res = sum(prueba)\n",
    "        \n",
    "        return res"
   ]
  },
  {
   "cell_type": "code",
   "execution_count": 101,
   "metadata": {},
   "outputs": [
    {
     "data": {
      "text/plain": [
       "3"
      ]
     },
     "execution_count": 101,
     "metadata": {},
     "output_type": "execute_result"
    }
   ],
   "source": [
    "suma_mes(x = \"01\")"
   ]
  },
  {
   "cell_type": "code",
   "execution_count": 115,
   "metadata": {},
   "outputs": [],
   "source": [
    "def pregunta_04():\n",
    "    def variable(num):\n",
    "        lista = []\n",
    "        for i in range(len(datos)):\n",
    "            lista.append(datos[i][num])\n",
    "        return lista\n",
    "\n",
    "    mes = []\n",
    "    for i in range(len(variable(num=2))):\n",
    "        mes.append(variable(num=2)[i].split(\"-\")[1])\n",
    "\n",
    "    def suma_mes(x):\n",
    "        prueba = []\n",
    "        for i in range(len(mes)):\n",
    "            prueba.append(mes[i] == x)\n",
    "        res = sum(prueba)\n",
    "\n",
    "        return res\n",
    "\n",
    "    num_mes = []\n",
    "    conteo = []\n",
    "    meses = [\"01\", \"02\", \"03\", \"04\", \"05\", \"06\",\n",
    "             \"07\", \"08\", \"09\", \"10\", \"11\", \"12\"]\n",
    "\n",
    "    for i in range(len(meses)):\n",
    "        num_mes.append(meses[i])\n",
    "        conteo.append(suma_mes(x=meses[i]))\n",
    "\n",
    "    res = [\n",
    "        (num_mes[0], conteo[0]),\n",
    "        (num_mes[1],  conteo[1]),\n",
    "        (num_mes[2], conteo[2]),\n",
    "        (num_mes[3], conteo[3]),\n",
    "        (num_mes[4], conteo[4]),\n",
    "        (num_mes[5], conteo[5]),\n",
    "        (num_mes[6], conteo[6]),\n",
    "        (num_mes[7], conteo[7]),\n",
    "        (num_mes[8], conteo[8]),\n",
    "        (num_mes[9], conteo[9]),\n",
    "        (num_mes[10], conteo[10]),\n",
    "        (num_mes[11], conteo[11])\n",
    "    ]\n",
    "    return res\n"
   ]
  },
  {
   "cell_type": "code",
   "execution_count": 116,
   "metadata": {},
   "outputs": [
    {
     "data": {
      "text/plain": [
       "[('01', 3),\n",
       " ('02', 4),\n",
       " ('03', 2),\n",
       " ('04', 4),\n",
       " ('05', 3),\n",
       " ('06', 3),\n",
       " ('07', 5),\n",
       " ('08', 6),\n",
       " ('09', 3),\n",
       " ('10', 2),\n",
       " ('11', 2),\n",
       " ('12', 3)]"
      ]
     },
     "execution_count": 116,
     "metadata": {},
     "output_type": "execute_result"
    }
   ],
   "source": [
    "pregunta_04()"
   ]
  },
  {
   "cell_type": "code",
   "execution_count": null,
   "metadata": {},
   "outputs": [],
   "source": []
  }
 ],
 "metadata": {
  "colab": {
   "collapsed_sections": [],
   "provenance": []
  },
  "kernelspec": {
   "display_name": "Python 3.10.7 64-bit",
   "language": "python",
   "name": "python3"
  },
  "language_info": {
   "codemirror_mode": {
    "name": "ipython",
    "version": 3
   },
   "file_extension": ".py",
   "mimetype": "text/x-python",
   "name": "python",
   "nbconvert_exporter": "python",
   "pygments_lexer": "ipython3",
   "version": "3.10.7"
  },
  "vscode": {
   "interpreter": {
    "hash": "28e793ddffb67e2885a923845ebf4f9c658aab7de706fb27807f5f85e2012dd7"
   }
  }
 },
 "nbformat": 4,
 "nbformat_minor": 1
}
